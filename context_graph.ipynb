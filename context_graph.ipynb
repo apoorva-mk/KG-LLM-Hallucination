{
 "cells": [
  {
   "cell_type": "code",
   "execution_count": 23,
   "metadata": {},
   "outputs": [],
   "source": [
    "import vdblite\n",
    "import numpy as np\n",
    "from time import time\n",
    "from uuid import uuid4\n",
    "import sys\n",
    "from pprint import pprint as pp\n",
    "import dataset\n",
    "import pickle\n",
    "from subgraph import query_to_kg_embeddings"
   ]
  },
  {
   "cell_type": "code",
   "execution_count": 5,
   "metadata": {},
   "outputs": [],
   "source": [
    "file = open(\"simple_wikidata5m.pkl\", \"rb\")\n",
    "model = pickle.load(file)\n",
    "entity2id = model.graph.entity2id\n",
    "relation2id = model.graph.relation2id\n",
    "entity_embeddings = model.solver.entity_embeddings\n",
    "relation_embeddings = model.solver.relation_embeddings\n",
    "alias2entity = dataset.wikidata5m.load_alias(\"./entity.txt.gz\")"
   ]
  },
  {
   "cell_type": "code",
   "execution_count": 6,
   "metadata": {},
   "outputs": [],
   "source": [
    "entity_db = vdblite.Vdb()\n",
    "id2entity = model.graph.id2entity"
   ]
  },
  {
   "cell_type": "code",
   "execution_count": 7,
   "metadata": {},
   "outputs": [],
   "source": [
    "entity2alias = {v: k for k, v in alias2entity.items()}"
   ]
  },
  {
   "cell_type": "code",
   "execution_count": 8,
   "metadata": {},
   "outputs": [
    {
     "name": "stdout",
     "output_type": "stream",
     "text": [
      "<class 'dict'>\n",
      "Q5196650 cut your hair\n"
     ]
    }
   ],
   "source": [
    "print(type(entity2alias))\n",
    "for i in entity2alias:\n",
    "    print(i, entity2alias[i])\n",
    "    break"
   ]
  },
  {
   "cell_type": "code",
   "execution_count": 9,
   "metadata": {},
   "outputs": [],
   "source": [
    "for i in range(len(entity_embeddings)):\n",
    "    entity_db.add({'entity_embedding': entity_embeddings[i], 'entity_id': i})"
   ]
  },
  {
   "cell_type": "code",
   "execution_count": 10,
   "metadata": {},
   "outputs": [
    {
     "name": "stdout",
     "output_type": "stream",
     "text": [
      "DB elements #: 4818298\n",
      "DB size in memory: 39064728 bytes\n"
     ]
    }
   ],
   "source": [
    "entity_db.details()"
   ]
  },
  {
   "cell_type": "code",
   "execution_count": 27,
   "metadata": {},
   "outputs": [],
   "source": [
    "# Pass the output of query_to_kg_embeddings\n",
    "# \n",
    "def get_neighbourhood(query_embeddings):\n",
    "    neighbours = {}\n",
    "    for qe in query_embeddings:\n",
    "        nearest = entity_db.search(query_embeddings[qe], field='entity_embedding', count=5)\n",
    "        print(\"Nearest: \", len(nearest))\n",
    "        for n in nearest:\n",
    "            try:\n",
    "                alias = entity2alias[id2entity[n[\"entity_id\"]]]\n",
    "                neighbours[alias] = id2entity[n[\"entity_id\"]]\n",
    "            except Exception as e:\n",
    "                pass\n",
    "    return neighbours"
   ]
  },
  {
   "cell_type": "code",
   "execution_count": 15,
   "metadata": {},
   "outputs": [],
   "source": [
    "temp = entity_embeddings[entity2id[alias2entity[\"steve jobs\"]]]\n",
    "query_embedding = {\"steve jobs\": temp}"
   ]
  },
  {
   "cell_type": "code",
   "execution_count": 16,
   "metadata": {},
   "outputs": [
    {
     "name": "stdout",
     "output_type": "stream",
     "text": [
      "Nearest:  5\n",
      "steve jobs dies Q19837\n",
      "laurene jobs Q3133593\n",
      "chrisann brennan Q18810921\n",
      "dr. ed catmull Q93161\n",
      "eric emerson schmidt Q92747\n"
     ]
    }
   ],
   "source": [
    "neighbours = get_neighbourhood(query_embeddings=query_embedding)\n",
    "for n in neighbours:\n",
    "    print(n, neighbours[n])"
   ]
  },
  {
   "cell_type": "code",
   "execution_count": 17,
   "metadata": {},
   "outputs": [
    {
     "name": "stdout",
     "output_type": "stream",
     "text": [
      "/Users/apoorvamk/Desktop/CSE8803/KG-LLM-Hallucination/submodules/HaluEval/data/qa_data.json\n"
     ]
    }
   ],
   "source": [
    "import os\n",
    "import tqdm\n",
    "halueval_path = os.path.join(os.getcwd(), \"submodules\", \"HaluEval\", \"data\", \"qa_data.json\")\n",
    "print(halueval_path)"
   ]
  },
  {
   "cell_type": "code",
   "execution_count": 18,
   "metadata": {},
   "outputs": [],
   "source": [
    "import json\n",
    "with(open(halueval_path, \"r\")) as f:\n",
    "    data_lst = f.readlines()\n",
    "\n",
    "data_lst = [json.loads(data) for data in data_lst]"
   ]
  },
  {
   "cell_type": "code",
   "execution_count": 19,
   "metadata": {},
   "outputs": [],
   "source": [
    "RELEVANT_KEYS = ['knowledge', 'question']"
   ]
  },
  {
   "cell_type": "code",
   "execution_count": 21,
   "metadata": {},
   "outputs": [],
   "source": [
    "def process_data(data):\n",
    "    result = {}\n",
    "    for k in RELEVANT_KEYS:\n",
    "        query_embedding = query_to_kg_embeddings(data[k])\n",
    "        neighbours = get_neighbourhood(query_embedding)\n",
    "        result.update(neighbours)\n",
    "    return result"
   ]
  },
  {
   "cell_type": "code",
   "execution_count": 28,
   "metadata": {},
   "outputs": [
    {
     "name": "stdout",
     "output_type": "stream",
     "text": [
      "KeyError:  'the 19th century'\n",
      "KeyError:  'first'\n",
      "KeyError:  'usa'\n",
      "KeyError:  'arthur magazine 1844 1846 literary periodical published 19th century first women woman magazine published usa'\n",
      "KeyError:  'arthur magazine 1844 1846 literary periodical published 19th century first women woman magazine published'\n",
      "KeyError:  'magazine 1844 1846 literary periodical published 19th century first women woman magazine published usa'\n",
      "KeyError:  'arthur magazine 1844 1846 literary periodical published 19th century first women woman magazine'\n",
      "KeyError:  'magazine 1844 1846 literary periodical published 19th century first women woman magazine published'\n",
      "KeyError:  '1844 1846 literary periodical published 19th century first women woman magazine published usa'\n",
      "KeyError:  'arthur magazine 1844 1846 literary periodical published 19th century first women woman'\n",
      "KeyError:  'magazine 1844 1846 literary periodical published 19th century first women woman magazine'\n",
      "KeyError:  '1844 1846 literary periodical published 19th century first women woman magazine published'\n",
      "KeyError:  '1846 literary periodical published 19th century first women woman magazine published usa'\n",
      "KeyError:  'arthur magazine 1844 1846 literary periodical published 19th century first women'\n",
      "KeyError:  'magazine 1844 1846 literary periodical published 19th century first women woman'\n",
      "KeyError:  '1844 1846 literary periodical published 19th century first women woman magazine'\n",
      "KeyError:  '1846 literary periodical published 19th century first women woman magazine published'\n",
      "KeyError:  'literary periodical published 19th century first women woman magazine published usa'\n",
      "KeyError:  'arthur magazine 1844 1846 literary periodical published 19th century first'\n",
      "KeyError:  'magazine 1844 1846 literary periodical published 19th century first women'\n",
      "KeyError:  '1844 1846 literary periodical published 19th century first women woman'\n",
      "KeyError:  '1846 literary periodical published 19th century first women woman magazine'\n",
      "KeyError:  'literary periodical published 19th century first women woman magazine published'\n",
      "KeyError:  'periodical published 19th century first women woman magazine published usa'\n",
      "KeyError:  'arthur magazine 1844 1846 literary periodical published 19th century'\n",
      "KeyError:  'magazine 1844 1846 literary periodical published 19th century first'\n",
      "KeyError:  '1844 1846 literary periodical published 19th century first women'\n",
      "KeyError:  '1846 literary periodical published 19th century first women woman'\n",
      "KeyError:  'literary periodical published 19th century first women woman magazine'\n",
      "KeyError:  'periodical published 19th century first women woman magazine published'\n",
      "KeyError:  'published 19th century first women woman magazine published usa'\n",
      "KeyError:  'arthur magazine 1844 1846 literary periodical published 19th'\n",
      "KeyError:  'magazine 1844 1846 literary periodical published 19th century'\n",
      "KeyError:  '1844 1846 literary periodical published 19th century first'\n",
      "KeyError:  '1846 literary periodical published 19th century first women'\n",
      "KeyError:  'literary periodical published 19th century first women woman'\n",
      "KeyError:  'periodical published 19th century first women woman magazine'\n",
      "KeyError:  'published 19th century first women woman magazine published'\n",
      "KeyError:  '19th century first women woman magazine published usa'\n",
      "KeyError:  'arthur magazine 1844 1846 literary periodical published'\n",
      "KeyError:  'magazine 1844 1846 literary periodical published 19th'\n",
      "KeyError:  '1844 1846 literary periodical published 19th century'\n",
      "KeyError:  '1846 literary periodical published 19th century first'\n",
      "KeyError:  'literary periodical published 19th century first women'\n",
      "KeyError:  'periodical published 19th century first women woman'\n",
      "KeyError:  'published 19th century first women woman magazine'\n",
      "KeyError:  '19th century first women woman magazine published'\n",
      "KeyError:  'century first women woman magazine published usa'\n",
      "KeyError:  'arthur magazine 1844 1846 literary periodical'\n",
      "KeyError:  'magazine 1844 1846 literary periodical published'\n",
      "KeyError:  '1844 1846 literary periodical published 19th'\n",
      "KeyError:  '1846 literary periodical published 19th century'\n",
      "KeyError:  'literary periodical published 19th century first'\n",
      "KeyError:  'periodical published 19th century first women'\n",
      "KeyError:  'published 19th century first women woman'\n",
      "KeyError:  '19th century first women woman magazine'\n",
      "KeyError:  'century first women woman magazine published'\n",
      "KeyError:  'first women woman magazine published usa'\n",
      "KeyError:  'arthur magazine 1844 1846 literary'\n",
      "KeyError:  'magazine 1844 1846 literary periodical'\n",
      "KeyError:  '1844 1846 literary periodical published'\n",
      "KeyError:  '1846 literary periodical published 19th'\n",
      "KeyError:  'literary periodical published 19th century'\n",
      "KeyError:  'periodical published 19th century first'\n",
      "KeyError:  'published 19th century first women'\n",
      "KeyError:  '19th century first women woman'\n",
      "KeyError:  'century first women woman magazine'\n",
      "KeyError:  'first women woman magazine published'\n",
      "KeyError:  'women woman magazine published usa'\n",
      "KeyError:  'arthur magazine 1844 1846'\n",
      "KeyError:  'magazine 1844 1846 literary'\n",
      "KeyError:  '1844 1846 literary periodical'\n",
      "KeyError:  '1846 literary periodical published'\n",
      "KeyError:  'literary periodical published 19th'\n",
      "KeyError:  'periodical published 19th century'\n",
      "KeyError:  'published 19th century first'\n",
      "KeyError:  '19th century first women'\n",
      "KeyError:  'century first women woman'\n",
      "KeyError:  'first women woman magazine'\n",
      "KeyError:  'women woman magazine published'\n",
      "KeyError:  'woman magazine published usa'\n",
      "KeyError:  'arthur magazine 1844'\n",
      "KeyError:  'magazine 1844 1846'\n",
      "KeyError:  '1844 1846 literary'\n",
      "KeyError:  '1846 literary periodical'\n",
      "KeyError:  'literary periodical published'\n",
      "KeyError:  'periodical published 19th'\n",
      "KeyError:  'published 19th century'\n",
      "KeyError:  '19th century first'\n",
      "KeyError:  'century first women'\n",
      "KeyError:  'first women woman'\n",
      "KeyError:  'women woman magazine'\n",
      "KeyError:  'woman magazine published'\n",
      "KeyError:  'magazine published usa'\n",
      "KeyError:  'magazine 1844'\n",
      "KeyError:  '1844 1846'\n",
      "KeyError:  '1846 literary'\n",
      "KeyError:  'literary periodical'\n",
      "KeyError:  'periodical published'\n",
      "KeyError:  'published 19th'\n",
      "KeyError:  'century first'\n",
      "KeyError:  'Q28455228'\n",
      "KeyError:  'women woman'\n",
      "KeyError:  'Q8030697'\n",
      "KeyError:  'magazine published'\n",
      "KeyError:  'published usa'\n",
      "KeyError:  'periodical'\n",
      "KeyError:  'first'\n",
      "KeyError:  'women'\n",
      "KeyError:  'woman'\n",
      "KeyError:  'magazine'\n",
      "KeyError:  'usa'\n",
      "Nearest:  5\n",
      "Nearest:  5\n",
      "Nearest:  5\n",
      "Nearest:  5\n",
      "Nearest:  5\n",
      "Nearest:  5\n",
      "Nearest:  5\n",
      "Nearest:  5\n",
      "Nearest:  5\n",
      "Nearest:  5\n",
      "KeyError:  'magazine started first arthur magazine first women'\n",
      "KeyError:  'magazine started first arthur magazine first'\n",
      "KeyError:  'started first arthur magazine first women'\n",
      "KeyError:  'magazine started first arthur magazine'\n",
      "KeyError:  'started first arthur magazine first'\n",
      "KeyError:  'first arthur magazine first women'\n",
      "KeyError:  'magazine started first arthur'\n",
      "KeyError:  'started first arthur magazine'\n",
      "KeyError:  'first arthur magazine first'\n",
      "KeyError:  'arthur magazine first women'\n",
      "KeyError:  'magazine started first'\n",
      "KeyError:  'started first arthur'\n",
      "KeyError:  'first arthur magazine'\n",
      "KeyError:  'arthur magazine first'\n",
      "KeyError:  'magazine first women'\n",
      "KeyError:  'magazine started'\n",
      "KeyError:  'started first'\n",
      "KeyError:  'first arthur'\n",
      "KeyError:  'magazine first'\n",
      "KeyError:  'Q28455228'\n",
      "KeyError:  'magazine'\n",
      "KeyError:  'started'\n",
      "KeyError:  'first'\n",
      "KeyError:  'first'\n",
      "KeyError:  'women'\n",
      "Nearest:  5\n",
      "Nearest:  5\n",
      "KeyError:  'indian'\n",
      "KeyError:  'delhi'\n",
      "KeyError:  'family indian family famous involvement hotels namely group group hotel company head office delhi'\n",
      "KeyError:  'family indian family famous involvement hotels namely group group hotel company head office'\n",
      "KeyError:  'indian family famous involvement hotels namely group group hotel company head office delhi'\n",
      "KeyError:  'family indian family famous involvement hotels namely group group hotel company head'\n",
      "KeyError:  'indian family famous involvement hotels namely group group hotel company head office'\n",
      "KeyError:  'family famous involvement hotels namely group group hotel company head office delhi'\n",
      "KeyError:  'family indian family famous involvement hotels namely group group hotel company'\n",
      "KeyError:  'indian family famous involvement hotels namely group group hotel company head'\n",
      "KeyError:  'family famous involvement hotels namely group group hotel company head office'\n",
      "KeyError:  'famous involvement hotels namely group group hotel company head office delhi'\n",
      "KeyError:  'family indian family famous involvement hotels namely group group hotel'\n",
      "KeyError:  'indian family famous involvement hotels namely group group hotel company'\n",
      "KeyError:  'family famous involvement hotels namely group group hotel company head'\n",
      "KeyError:  'famous involvement hotels namely group group hotel company head office'\n",
      "KeyError:  'involvement hotels namely group group hotel company head office delhi'\n",
      "KeyError:  'family indian family famous involvement hotels namely group group'\n",
      "KeyError:  'indian family famous involvement hotels namely group group hotel'\n",
      "KeyError:  'family famous involvement hotels namely group group hotel company'\n",
      "KeyError:  'famous involvement hotels namely group group hotel company head'\n",
      "KeyError:  'involvement hotels namely group group hotel company head office'\n",
      "KeyError:  'hotels namely group group hotel company head office delhi'\n",
      "KeyError:  'family indian family famous involvement hotels namely group'\n",
      "KeyError:  'indian family famous involvement hotels namely group group'\n",
      "KeyError:  'family famous involvement hotels namely group group hotel'\n",
      "KeyError:  'famous involvement hotels namely group group hotel company'\n",
      "KeyError:  'involvement hotels namely group group hotel company head'\n",
      "KeyError:  'hotels namely group group hotel company head office'\n",
      "KeyError:  'namely group group hotel company head office delhi'\n",
      "KeyError:  'family indian family famous involvement hotels namely'\n",
      "KeyError:  'indian family famous involvement hotels namely group'\n",
      "KeyError:  'family famous involvement hotels namely group group'\n",
      "KeyError:  'famous involvement hotels namely group group hotel'\n",
      "KeyError:  'involvement hotels namely group group hotel company'\n",
      "KeyError:  'hotels namely group group hotel company head'\n",
      "KeyError:  'namely group group hotel company head office'\n",
      "KeyError:  'group group hotel company head office delhi'\n",
      "KeyError:  'family indian family famous involvement hotels'\n",
      "KeyError:  'indian family famous involvement hotels namely'\n",
      "KeyError:  'family famous involvement hotels namely group'\n",
      "KeyError:  'famous involvement hotels namely group group'\n",
      "KeyError:  'involvement hotels namely group group hotel'\n",
      "KeyError:  'hotels namely group group hotel company'\n",
      "KeyError:  'namely group group hotel company head'\n",
      "KeyError:  'group group hotel company head office'\n",
      "KeyError:  'group hotel company head office delhi'\n",
      "KeyError:  'family indian family famous involvement'\n",
      "KeyError:  'indian family famous involvement hotels'\n",
      "KeyError:  'family famous involvement hotels namely'\n",
      "KeyError:  'famous involvement hotels namely group'\n",
      "KeyError:  'involvement hotels namely group group'\n",
      "KeyError:  'hotels namely group group hotel'\n",
      "KeyError:  'namely group group hotel company'\n",
      "KeyError:  'group group hotel company head'\n",
      "KeyError:  'group hotel company head office'\n",
      "KeyError:  'hotel company head office delhi'\n",
      "KeyError:  'family indian family famous'\n",
      "KeyError:  'indian family famous involvement'\n",
      "KeyError:  'family famous involvement hotels'\n",
      "KeyError:  'famous involvement hotels namely'\n",
      "KeyError:  'involvement hotels namely group'\n",
      "KeyError:  'hotels namely group group'\n",
      "KeyError:  'namely group group hotel'\n",
      "KeyError:  'group group hotel company'\n",
      "KeyError:  'group hotel company head'\n",
      "KeyError:  'hotel company head office'\n",
      "KeyError:  'company head office delhi'\n",
      "KeyError:  'family indian family'\n",
      "KeyError:  'indian family famous'\n",
      "KeyError:  'family famous involvement'\n",
      "KeyError:  'famous involvement hotels'\n",
      "KeyError:  'involvement hotels namely'\n",
      "KeyError:  'hotels namely group'\n",
      "KeyError:  'namely group group'\n",
      "KeyError:  'group group hotel'\n",
      "KeyError:  'group hotel company'\n",
      "KeyError:  'hotel company head'\n",
      "KeyError:  'company head office'\n",
      "KeyError:  'head office delhi'\n",
      "KeyError:  'family indian'\n",
      "KeyError:  'indian family'\n",
      "KeyError:  'family famous'\n",
      "KeyError:  'famous involvement'\n",
      "KeyError:  'involvement hotels'\n",
      "KeyError:  'hotels namely'\n",
      "KeyError:  'namely group'\n",
      "KeyError:  'group group'\n",
      "KeyError:  'group hotel'\n",
      "KeyError:  'hotel company'\n",
      "KeyError:  'head office'\n",
      "KeyError:  'office delhi'\n",
      "KeyError:  'family'\n",
      "KeyError:  'indian'\n",
      "KeyError:  'family'\n",
      "KeyError:  'Q1127274'\n",
      "KeyError:  'Q16886557'\n",
      "KeyError:  'hotels'\n",
      "KeyError:  'namely'\n",
      "KeyError:  'group'\n",
      "KeyError:  'group'\n",
      "KeyError:  'office'\n",
      "KeyError:  'delhi'\n",
      "Nearest:  5\n",
      "Nearest:  5\n",
      "Nearest:  5\n",
      "Nearest:  5\n",
      "KeyError:  'family part hotel company head office city'\n",
      "KeyError:  'family part hotel company head office'\n",
      "KeyError:  'part hotel company head office city'\n",
      "KeyError:  'family part hotel company head'\n",
      "KeyError:  'part hotel company head office'\n",
      "KeyError:  'hotel company head office city'\n",
      "KeyError:  'family part hotel company'\n",
      "KeyError:  'part hotel company head'\n",
      "KeyError:  'hotel company head office'\n",
      "KeyError:  'company head office city'\n",
      "KeyError:  'family part hotel'\n",
      "KeyError:  'part hotel company'\n",
      "KeyError:  'hotel company head'\n",
      "KeyError:  'company head office'\n",
      "KeyError:  'head office city'\n",
      "KeyError:  'family part'\n",
      "KeyError:  'part hotel'\n",
      "KeyError:  'hotel company'\n",
      "KeyError:  'head office'\n",
      "KeyError:  'office city'\n",
      "KeyError:  'family'\n",
      "KeyError:  'part'\n",
      "KeyError:  'office'\n",
      "KeyError:  'city'\n",
      "Nearest:  5\n",
      "Nearest:  5\n",
      "Nearest:  5\n"
     ]
    }
   ],
   "source": [
    "processed_data = [process_data(i) for i in data_lst[:2]]"
   ]
  },
  {
   "cell_type": "code",
   "execution_count": 31,
   "metadata": {},
   "outputs": [
    {
     "name": "stdout",
     "output_type": "stream",
     "text": [
      "2\n",
      "{'knowledge': \"Arthur's Magazine (1844–1846) was an American literary periodical published in Philadelphia in the 19th century.First for Women is a woman's magazine published by Bauer Media Group in the USA.\", 'question': \"Which magazine was started first Arthur's Magazine or First for Women?\", 'right_answer': \"Arthur's Magazine\", 'hallucinated_answer': 'First for Women was started first.'} {'men and women (newspaper supplement)': 'Q16895083', 'abhidhanantar': 'Q16057964', 'tung padevat': 'Q7852993', 'portals of prayer': 'Q7231514', 'image magazine (ireland)': 'Q6002116', '4-4-0st': 'Q2037045', '4-6-0t': 'Q483711', '0-6-0st': 'Q2922269', 'pacific locomotive': 'Q1043481', 'mogul (locomotive)': 'Q2441836', 'philadelphia commuter rail': 'Q1345', 'st. lewis, mo': 'Q38022', 'new your city': 'Q60', 'cin city': 'Q43196', 'san fransico, california': 'Q62', 'heinrich bauer verlag kg': 'Q554198', 'bbc magazines': 'Q16994752', 'motor trend group': 'Q7565129', 'daughters of bilitis': 'Q1145872', 'ibrahim al-yaziji': 'Q1399375', 'gargoyle humor magazine': 'Q5523202', 'arthur (magazine)': 'Q4797749', 'clear magazine': 'Q5130641', 'chiropractic economics magazine': 'Q5101979', 'san francisco chronicle magazine': 'Q7413974', 'year in review 19th century': 'Q6955', '18th century': 'Q7015', 'twentieth century': 'Q6927', '17th centuries': 'Q7016', 'year in review 14th century': 'Q7034', '1844': 'Q7633', 'year 1848': 'Q7647', '1840 ad': 'Q7619', '1843 ce': 'Q7629', '1847': 'Q7644', 'births in 1846': 'Q7640', 'events in 1842': 'Q7625', 'year 1845': 'Q7636', 'p:lit': 'Q8242', 'branches of philosophy': 'Q5891', 'architecure': 'Q12271', 'ad 1984': 'Q2432', 'non-historical': 'Q309', 'oasis collections': 'Q3972943', 'mine planning': 'Q44497', 'oil and gas industry': 'Q862571', 'retail sales': 'Q126793', 'corporate communications': 'Q1426058', 'burial act 1857': 'Q4998795', 'registration of births, deaths and marriages (scotland) act 1965': 'Q7309446', 'maivatn': 'Q15013992', 'fortuna rocks': 'Q5472797', 'an act to amend the law relating to scrap metal dealers; and for connected purposes': 'Q7438767'}\n"
     ]
    }
   ],
   "source": [
    "print(len(processed_data))\n",
    "print(data_lst[0], processed_data[0])"
   ]
  },
  {
   "cell_type": "code",
   "execution_count": null,
   "metadata": {},
   "outputs": [],
   "source": [
    "from tqdm.contrib.concurrent import process_map\n",
    "import multiprocessing as mp\n",
    "import time\n",
    "mp.cpu_count()\n",
    "start = time.time()\n",
    "result = process_map(process_data, data_lst, max_workers=5)\n",
    "for data in tqdm.tqdm(data_lst):\n",
    "    result.append(process_data(data))\n",
    "end = time.time()\n",
    "print(end-start)"
   ]
  }
 ],
 "metadata": {
  "kernelspec": {
   "display_name": "kghalu",
   "language": "python",
   "name": "python3"
  },
  "language_info": {
   "codemirror_mode": {
    "name": "ipython",
    "version": 3
   },
   "file_extension": ".py",
   "mimetype": "text/x-python",
   "name": "python",
   "nbconvert_exporter": "python",
   "pygments_lexer": "ipython3",
   "version": "3.10.13"
  }
 },
 "nbformat": 4,
 "nbformat_minor": 2
}
