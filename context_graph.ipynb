{
 "cells": [
  {
   "cell_type": "code",
   "execution_count": null,
   "metadata": {},
   "outputs": [],
   "source": [
    "import vdblite\n",
    "import numpy as np\n",
    "from time import time\n",
    "from uuid import uuid4\n",
    "import sys\n",
    "from pprint import pprint as pp\n",
    "import dataset\n",
    "import pickle"
   ]
  },
  {
   "cell_type": "code",
   "execution_count": null,
   "metadata": {},
   "outputs": [],
   "source": [
    "file = open(\"simple_wikidata5m.pkl\", \"rb\")\n",
    "model = pickle.load(file)\n",
    "entity2id = model.graph.entity2id\n",
    "relation2id = model.graph.relation2id\n",
    "entity_embeddings = model.solver.entity_embeddings\n",
    "relation_embeddings = model.solver.relation_embeddings"
   ]
  },
  {
   "cell_type": "code",
   "execution_count": null,
   "metadata": {},
   "outputs": [],
   "source": [
    "alias2entity = dataset.wikidata5m.load_alias(\"./entity.txt.gz\")"
   ]
  },
  {
   "cell_type": "code",
   "execution_count": null,
   "metadata": {},
   "outputs": [],
   "source": [
    "entity_db = vdblite.Vdb()\n",
    "id2entity = model.graph.id2entity"
   ]
  },
  {
   "cell_type": "code",
   "execution_count": null,
   "metadata": {},
   "outputs": [],
   "source": [
    "entity2alias = {v: k for k, v in alias2entity.items()}"
   ]
  },
  {
   "cell_type": "code",
   "execution_count": null,
   "metadata": {},
   "outputs": [],
   "source": [
    "print(type(entity2alias))\n",
    "for i in entity2alias:\n",
    "    print(i, entity2alias[i])\n",
    "    break"
   ]
  },
  {
   "cell_type": "code",
   "execution_count": null,
   "metadata": {},
   "outputs": [],
   "source": [
    "for i in range(len(entity_embeddings)):\n",
    "    entity_db.add({'entity_embedding': entity_embeddings[i], 'entity_id': i})"
   ]
  },
  {
   "cell_type": "code",
   "execution_count": null,
   "metadata": {},
   "outputs": [],
   "source": [
    "entity_db.details()"
   ]
  },
  {
   "cell_type": "code",
   "execution_count": null,
   "metadata": {},
   "outputs": [],
   "source": [
    "# Pass the output of query_to_kg_embeddings\n",
    "# \n",
    "def get_neighbourhood(query_embeddings):\n",
    "    neighbours = {}\n",
    "    for qe in query_embeddings:\n",
    "        nearest = entity_db.search(query_embeddings[qe], field='entity_embedding', count=3)\n",
    "        print(\"Nearest: \", len(nearest))\n",
    "        for n in nearest:\n",
    "            alias = entity2alias[id2entity[n[\"entity_id\"]]]\n",
    "            neighbours[alias] = n[\"entity_embedding\"]\n",
    "\n",
    "    return neighbours"
   ]
  },
  {
   "cell_type": "code",
   "execution_count": null,
   "metadata": {},
   "outputs": [],
   "source": [
    "temp = entity_embeddings[entity2id[alias2entity[\"steve jobs\"]]]\n",
    "query_embedding = {\"steve jobs\": temp}"
   ]
  },
  {
   "cell_type": "code",
   "execution_count": null,
   "metadata": {},
   "outputs": [],
   "source": [
    "neighbours = get_neighbourhood(query_embeddings=query_embedding)\n",
    "for n in neighbours:\n",
    "    print(n)"
   ]
  }
 ],
 "metadata": {
  "kernelspec": {
   "display_name": "kghalu",
   "language": "python",
   "name": "python3"
  },
  "language_info": {
   "codemirror_mode": {
    "name": "ipython",
    "version": 3
   },
   "file_extension": ".py",
   "mimetype": "text/x-python",
   "name": "python",
   "nbconvert_exporter": "python",
   "pygments_lexer": "ipython3",
   "version": "3.10.13"
  }
 },
 "nbformat": 4,
 "nbformat_minor": 2
}
