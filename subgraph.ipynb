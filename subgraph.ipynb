{
 "cells": [
  {
   "cell_type": "code",
   "execution_count": 1,
   "metadata": {},
   "outputs": [
    {
     "name": "stderr",
     "output_type": "stream",
     "text": [
      "[nltk_data] Downloading package punkt to\n",
      "[nltk_data]     /var/home/zaristei/nltk_data...\n",
      "[nltk_data]   Package punkt is already up-to-date!\n",
      "[nltk_data] Downloading package stopwords to\n",
      "[nltk_data]     /var/home/zaristei/nltk_data...\n",
      "[nltk_data]   Package stopwords is already up-to-date!\n",
      "[nltk_data] Downloading package maxent_ne_chunker to\n",
      "[nltk_data]     /var/home/zaristei/nltk_data...\n",
      "[nltk_data]   Package maxent_ne_chunker is already up-to-date!\n",
      "[nltk_data] Downloading package words to\n",
      "[nltk_data]     /var/home/zaristei/nltk_data...\n",
      "[nltk_data]   Package words is already up-to-date!\n",
      "[nltk_data] Downloading package averaged_perceptron_tagger to\n",
      "[nltk_data]     /var/home/zaristei/nltk_data...\n",
      "[nltk_data]   Package averaged_perceptron_tagger is already up-to-\n",
      "[nltk_data]       date!\n"
     ]
    }
   ],
   "source": [
    "import pickle\n",
    "# import graphvite as gv\n",
    "import dataset\n",
    "import nltk\n",
    "import re\n",
    "import spacy\n",
    "import nltk\n",
    "from nltk import word_tokenize\n",
    "from nltk.corpus import stopwords\n",
    "from nltk.tokenize import RegexpTokenizer\n",
    "from nltk.tag import pos_tag\n",
    "from nltk.chunk import ne_chunk\n",
    "\n",
    "nltk.download('punkt')\n",
    "nltk.download('stopwords')\n",
    "nltk.download('maxent_ne_chunker')\n",
    "nltk.download('words')\n",
    "nltk.download('averaged_perceptron_tagger')\n",
    "\n",
    "\n",
    "\n",
    "%reload_ext autoreload\n",
    "%autoreload"
   ]
  },
  {
   "cell_type": "code",
   "execution_count": 2,
   "metadata": {},
   "outputs": [],
   "source": [
    "file = open(\"simple_wikidata5m.pkl\", \"rb\")\n",
    "model = pickle.load(file)\n",
    "entity2id = model.graph.entity2id\n",
    "relation2id = model.graph.relation2id\n",
    "entity_embeddings = model.solver.entity_embeddings\n",
    "relation_embeddings = model.solver.relation_embeddings"
   ]
  },
  {
   "cell_type": "code",
   "execution_count": 3,
   "metadata": {},
   "outputs": [],
   "source": [
    "alias2entity = dataset.wikidata5m.load_alias(\"./entity.txt.gz\")"
   ]
  },
  {
   "cell_type": "code",
   "execution_count": 4,
   "metadata": {},
   "outputs": [
    {
     "name": "stdout",
     "output_type": "stream",
     "text": [
      "[-0.14506742 -0.12522382 -0.20576426 -0.24067238  0.5879003  -0.37743843\n",
      " -0.21119453  0.31490594  0.3750396   0.15038064 -0.22792946 -0.23479481\n",
      " -0.18943842 -0.31884384 -0.1297822  -0.16294236  0.20854223  0.24055439\n",
      "  0.21060887 -0.31041607  0.02344835  0.2064475   0.23985358 -0.41276288\n",
      " -0.11470509  0.15619455  0.3971171   0.27328852 -0.20748287 -0.30876884\n",
      " -0.22771911 -0.30629387 -0.0895431  -0.17742126 -0.23951218  0.26153737\n",
      "  0.21711522  0.36986688  0.50231826  0.2374765  -0.26459837 -0.22913334\n",
      "  0.34746253  0.24404152 -0.18217663  0.08532561 -0.29877698  0.25021964\n",
      "  0.11043487  0.27521297  0.21867076  0.23033242 -0.17963171  0.2614267\n",
      " -0.3470688   0.41214    -0.3862682   0.19821905  0.07231293 -0.42387047\n",
      "  0.4534364  -0.2984923  -0.13255991 -0.09870375  0.3029415   0.1755728\n",
      " -0.19057822  0.34490088  0.4965025  -0.34853256  0.2103244  -0.17634982\n",
      "  0.33285713  0.06456072  0.3649903   0.09194289 -0.247378    0.26242307\n",
      " -0.12918861 -0.29517058 -0.17388667  0.2873254   0.15384376  0.19748788\n",
      "  0.24660812 -0.28517428 -0.34896082 -0.22482632 -0.25199965 -0.2719499\n",
      " -0.27490684 -0.03476096 -0.30479294  0.33971727  0.21606562  0.21040331\n",
      "  0.22844121 -0.27092007  0.24125652 -0.3201027  -0.2724303   0.129536\n",
      " -0.11027795 -0.15309109 -0.2636892   0.33530372  0.26944247 -0.39436612\n",
      "  0.29794857  0.24719167  0.21053848 -0.19964972 -0.26105213  0.27041772\n",
      "  0.2586945  -0.17425044 -0.27600846  0.3193959  -0.23735195 -0.22332062\n",
      "  0.38185897 -0.38693336 -0.28988186 -0.2834885   0.19357872  0.05198866\n",
      " -0.26617056  0.09953953  0.07991123  0.17369421  0.36909854 -0.38178182\n",
      "  0.14715464  0.16232911 -0.26115558  0.31482244 -0.31092715  0.34381798\n",
      " -0.09695451 -0.16897024  0.10882534  0.23075224 -0.3692775  -0.25563815\n",
      "  0.25800258  0.17762202 -0.24306796 -0.3011921  -0.2124992  -0.10678189\n",
      "  0.34094593 -0.37334433 -0.27101117 -0.12899025 -0.25552815  0.3145101\n",
      "  0.3803639  -0.01283959  0.2594815  -0.3052168  -0.32027805  0.3795804\n",
      "  0.2878937   0.20219532  0.32984096 -0.3268464   0.1971981  -0.764916\n",
      " -0.4325511  -0.2396579  -0.33528614  0.18730305  0.29911697 -0.19850144\n",
      "  0.14577736  0.25128955  0.18035404  0.19584861 -0.30390078  0.22567168\n",
      " -0.04851497  0.32232395 -0.23914525 -0.38690457  0.22063094  0.23574857\n",
      "  0.22907521  0.00575346 -0.4083574   0.30953854  0.06047186 -0.37229845\n",
      " -0.29697588  0.15119073  0.34708896  0.2966658   0.18196455  0.32566363\n",
      "  0.39736924 -0.08472051  0.4201948  -0.41575137  0.20696497 -0.31656507\n",
      " -0.07445703  0.27206    -0.07582998  0.24079043 -0.12612136  0.34625986\n",
      " -0.2408881   0.17520903 -0.27288476  0.45294756  0.1241416   0.15864536\n",
      "  0.23071954 -0.18653986 -0.28292274  0.12866876  0.12541872  0.27301344\n",
      " -0.34543473  0.24826002  0.22880833 -0.3836946   0.1392973   0.06979945\n",
      "  0.01391008  0.04422108  0.31018665  0.2446306  -0.2799757  -0.30268586\n",
      "  0.23148757  0.38738903 -0.42598432 -0.36230692  0.28510776 -0.17946853\n",
      "  0.08021557 -0.1503966  -0.11389018  0.15955403  0.22006099 -0.32894164\n",
      "  0.07541022 -0.36434355 -0.40499088 -0.5407008  -0.334528    0.12424208\n",
      "  0.1724417   0.13587585  0.10228803  0.2187064   0.32545963 -0.37263152\n",
      " -0.0135829   0.17087676 -0.41045636 -0.33387753 -0.32543972  0.06809237\n",
      " -0.35404703 -0.34158817  0.23821752 -0.16601041  0.27089676  0.24751031\n",
      "  0.19089304  0.14239715  0.2507067   0.2526874  -0.21500714 -0.25352645\n",
      " -0.24353218  0.23752594 -0.24479964 -0.08938855 -0.18545249 -0.15422994\n",
      "  0.30514467 -0.49422148 -0.12914136 -0.18538846  0.1916766   0.2389661\n",
      " -0.3018297  -0.39859635  0.2603335   0.27904248 -0.2579952   0.28172952\n",
      "  0.13774692 -0.31739715 -0.2816105   0.28009844  0.26032415  0.39343727\n",
      " -0.1927463   0.12708008 -0.21125413  0.28956583 -0.24034666 -0.307148\n",
      " -0.262298   -0.15282567 -0.09420244  0.30734295 -0.09999987 -0.1965642\n",
      "  0.19136268 -0.21413472 -0.21039599  0.15148094  0.3764153  -0.2669609\n",
      " -0.21472284  0.22289057  0.12892316  0.12260946  0.1896786  -0.26977533\n",
      "  0.26959962 -0.14852074 -0.26189107  0.24157588 -0.24103619 -0.15669122\n",
      "  0.3687733   0.10732551  0.43168336  0.26664332  0.3227514   0.05783318\n",
      " -0.0891018  -0.2586375  -0.5222527   0.33556297  0.18611021 -0.23537478\n",
      " -0.2723844  -0.30478185 -0.4236112  -0.29821002  0.25669768 -0.07452058\n",
      " -0.2546773  -0.19840287  0.23872112  0.37320462  0.20859338  0.24399957\n",
      " -0.1652583   0.3775583   0.2564948   0.16238126  0.23313056 -0.01877385\n",
      " -0.319661   -0.25217405  0.07912546 -0.1319775   0.02579788  0.26677704\n",
      " -0.285088    0.2646909  -0.26919544  0.31581926  0.30795646  0.21610606\n",
      " -0.3426288   0.3061445   0.22735713 -0.3126678   0.23005821 -0.1543373\n",
      " -0.33698595  0.44480398 -0.20852622  0.17343293 -0.18069917 -0.28746182\n",
      " -0.30276006 -0.2422918  -0.18083768 -0.27742818 -0.13996601  0.2667479\n",
      " -0.23979615 -0.25648975 -0.20441383 -0.15871555  0.17137468 -0.40456086\n",
      " -0.26280078  0.21788967 -0.31719878 -0.21716121 -0.28245273 -0.4178162\n",
      " -0.18353023  0.15238999  0.54732215  0.16245185  0.26971033 -0.16929874\n",
      "  0.21739304  0.2719011  -0.21627575  0.42431644 -0.09719229 -0.1919302\n",
      "  0.33578286 -0.25832567  0.22241059 -0.2671045  -0.2755403  -0.3777978\n",
      " -0.1613357   0.36252114 -0.317547    0.02570706 -0.19955097  0.2606773\n",
      " -0.32343644  0.31522942  0.4629727  -0.43595663 -0.3442651   0.18196848\n",
      " -0.32445848 -0.4011063   0.41461965 -0.23211189 -0.14109397  0.22089247\n",
      "  0.26039174  0.01266107  0.3636632   0.38109675  0.28959948  0.29770634\n",
      " -0.27688733  0.09234042 -0.24576977 -0.2498258  -0.127733    0.13541618\n",
      " -0.2837007  -0.15552165  0.38070765 -0.26711762 -0.18115827 -0.2563582\n",
      "  0.14699587  0.1130324   0.4674861   0.7260556   0.19886233 -0.25110006\n",
      " -0.34128025 -0.08043565  0.37552455 -0.41809997 -0.38447997  0.17891212\n",
      " -0.34914503 -0.27924037  0.4422068   0.37996095  0.24540615 -0.277813\n",
      " -0.1839356   0.14005207 -0.32919353  0.42589086  0.2528442   0.34456846\n",
      " -1.360388   -1.3614345  -0.20008604 -0.34389812 -0.21338613 -0.16805749\n",
      "  0.42157498  0.26127526 -0.1811258  -0.2737337   0.16919366  0.25007138\n",
      "  0.34784895 -0.26035273 -0.29861903  0.04315541  0.27143064  0.23631729\n",
      "  0.35243535  0.22740643  0.19060904 -0.21967848  0.3496601   0.1369616\n",
      " -0.4897582  -0.42183152  0.36977106 -0.23670234 -0.17383528 -0.30562872\n",
      "  0.11804554  0.31143838]\n"
     ]
    }
   ],
   "source": [
    "print(entity_embeddings[entity2id[alias2entity[\"steve jobs\"]]])"
   ]
  },
  {
   "cell_type": "code",
   "execution_count": 5,
   "metadata": {},
   "outputs": [
    {
     "name": "stdout",
     "output_type": "stream",
     "text": [
      "\u001b[33mWARNING: The directory '/var/home/zaristei/.cache/pip' or its parent directory is not owned or is not writable by the current user. The cache has been disabled. Check the permissions and owner of that directory. If executing pip with sudo, you should use sudo's -H flag.\u001b[0m\u001b[33m\n",
      "\u001b[0mCollecting en-core-web-sm==3.5.0\n",
      "  Downloading https://github.com/explosion/spacy-models/releases/download/en_core_web_sm-3.5.0/en_core_web_sm-3.5.0-py3-none-any.whl (12.8 MB)\n",
      "\u001b[2K     \u001b[90m━━━━━━━━━━━━━━━━━━━━━━━━━━━━━━━━━━━━━━━\u001b[0m \u001b[32m12.8/12.8 MB\u001b[0m \u001b[31m117.4 MB/s\u001b[0m eta \u001b[36m0:00:00\u001b[0ma \u001b[36m0:00:01\u001b[0m\n",
      "\u001b[?25hRequirement already satisfied: spacy<3.6.0,>=3.5.0 in /var/home/zaristei/.conda/envs/knowledge_graph_llms/lib/python3.11/site-packages (from en-core-web-sm==3.5.0) (3.5.3)\n",
      "Requirement already satisfied: spacy-legacy<3.1.0,>=3.0.11 in /var/home/zaristei/.conda/envs/knowledge_graph_llms/lib/python3.11/site-packages (from spacy<3.6.0,>=3.5.0->en-core-web-sm==3.5.0) (3.0.12)\n",
      "Requirement already satisfied: spacy-loggers<2.0.0,>=1.0.0 in /var/home/zaristei/.conda/envs/knowledge_graph_llms/lib/python3.11/site-packages (from spacy<3.6.0,>=3.5.0->en-core-web-sm==3.5.0) (1.0.4)\n",
      "Requirement already satisfied: murmurhash<1.1.0,>=0.28.0 in /var/home/zaristei/.conda/envs/knowledge_graph_llms/lib/python3.11/site-packages (from spacy<3.6.0,>=3.5.0->en-core-web-sm==3.5.0) (1.0.7)\n",
      "Requirement already satisfied: cymem<2.1.0,>=2.0.2 in /var/home/zaristei/.conda/envs/knowledge_graph_llms/lib/python3.11/site-packages (from spacy<3.6.0,>=3.5.0->en-core-web-sm==3.5.0) (2.0.6)\n",
      "Requirement already satisfied: preshed<3.1.0,>=3.0.2 in /var/home/zaristei/.conda/envs/knowledge_graph_llms/lib/python3.11/site-packages (from spacy<3.6.0,>=3.5.0->en-core-web-sm==3.5.0) (3.0.6)\n",
      "Requirement already satisfied: thinc<8.2.0,>=8.1.8 in /var/home/zaristei/.conda/envs/knowledge_graph_llms/lib/python3.11/site-packages (from spacy<3.6.0,>=3.5.0->en-core-web-sm==3.5.0) (8.1.10)\n",
      "Requirement already satisfied: wasabi<1.2.0,>=0.9.1 in /var/home/zaristei/.conda/envs/knowledge_graph_llms/lib/python3.11/site-packages (from spacy<3.6.0,>=3.5.0->en-core-web-sm==3.5.0) (0.9.1)\n",
      "Requirement already satisfied: srsly<3.0.0,>=2.4.3 in /var/home/zaristei/.conda/envs/knowledge_graph_llms/lib/python3.11/site-packages (from spacy<3.6.0,>=3.5.0->en-core-web-sm==3.5.0) (2.4.8)\n",
      "Requirement already satisfied: catalogue<2.1.0,>=2.0.6 in /var/home/zaristei/.conda/envs/knowledge_graph_llms/lib/python3.11/site-packages (from spacy<3.6.0,>=3.5.0->en-core-web-sm==3.5.0) (2.0.7)\n",
      "Requirement already satisfied: typer<0.8.0,>=0.3.0 in /var/home/zaristei/.conda/envs/knowledge_graph_llms/lib/python3.11/site-packages (from spacy<3.6.0,>=3.5.0->en-core-web-sm==3.5.0) (0.4.1)\n",
      "Requirement already satisfied: pathy>=0.10.0 in /var/home/zaristei/.conda/envs/knowledge_graph_llms/lib/python3.11/site-packages (from spacy<3.6.0,>=3.5.0->en-core-web-sm==3.5.0) (0.10.1)\n",
      "Requirement already satisfied: smart-open<7.0.0,>=5.2.1 in /var/home/zaristei/.conda/envs/knowledge_graph_llms/lib/python3.11/site-packages (from spacy<3.6.0,>=3.5.0->en-core-web-sm==3.5.0) (5.2.1)\n",
      "Requirement already satisfied: tqdm<5.0.0,>=4.38.0 in /var/home/zaristei/.conda/envs/knowledge_graph_llms/lib/python3.11/site-packages (from spacy<3.6.0,>=3.5.0->en-core-web-sm==3.5.0) (4.65.0)\n",
      "Requirement already satisfied: numpy>=1.15.0 in /var/home/zaristei/.conda/envs/knowledge_graph_llms/lib/python3.11/site-packages (from spacy<3.6.0,>=3.5.0->en-core-web-sm==3.5.0) (1.26.0)\n",
      "Requirement already satisfied: requests<3.0.0,>=2.13.0 in /var/home/zaristei/.conda/envs/knowledge_graph_llms/lib/python3.11/site-packages (from spacy<3.6.0,>=3.5.0->en-core-web-sm==3.5.0) (2.31.0)\n",
      "Requirement already satisfied: pydantic!=1.8,!=1.8.1,<1.11.0,>=1.7.4 in /var/home/zaristei/.conda/envs/knowledge_graph_llms/lib/python3.11/site-packages (from spacy<3.6.0,>=3.5.0->en-core-web-sm==3.5.0) (1.10.12)\n",
      "Requirement already satisfied: jinja2 in /var/home/zaristei/.conda/envs/knowledge_graph_llms/lib/python3.11/site-packages (from spacy<3.6.0,>=3.5.0->en-core-web-sm==3.5.0) (3.1.2)\n",
      "Requirement already satisfied: setuptools in /var/home/zaristei/.conda/envs/knowledge_graph_llms/lib/python3.11/site-packages (from spacy<3.6.0,>=3.5.0->en-core-web-sm==3.5.0) (68.0.0)\n",
      "Requirement already satisfied: packaging>=20.0 in /var/home/zaristei/.conda/envs/knowledge_graph_llms/lib/python3.11/site-packages (from spacy<3.6.0,>=3.5.0->en-core-web-sm==3.5.0) (23.2)\n",
      "Requirement already satisfied: langcodes<4.0.0,>=3.2.0 in /var/home/zaristei/.conda/envs/knowledge_graph_llms/lib/python3.11/site-packages (from spacy<3.6.0,>=3.5.0->en-core-web-sm==3.5.0) (3.3.0)\n",
      "Requirement already satisfied: typing-extensions>=4.2.0 in /var/home/zaristei/.conda/envs/knowledge_graph_llms/lib/python3.11/site-packages (from pydantic!=1.8,!=1.8.1,<1.11.0,>=1.7.4->spacy<3.6.0,>=3.5.0->en-core-web-sm==3.5.0) (4.7.1)\n",
      "Requirement already satisfied: charset-normalizer<4,>=2 in /var/home/zaristei/.conda/envs/knowledge_graph_llms/lib/python3.11/site-packages (from requests<3.0.0,>=2.13.0->spacy<3.6.0,>=3.5.0->en-core-web-sm==3.5.0) (2.0.4)\n",
      "Requirement already satisfied: idna<4,>=2.5 in /var/home/zaristei/.conda/envs/knowledge_graph_llms/lib/python3.11/site-packages (from requests<3.0.0,>=2.13.0->spacy<3.6.0,>=3.5.0->en-core-web-sm==3.5.0) (3.4)\n",
      "Requirement already satisfied: urllib3<3,>=1.21.1 in /var/home/zaristei/.conda/envs/knowledge_graph_llms/lib/python3.11/site-packages (from requests<3.0.0,>=2.13.0->spacy<3.6.0,>=3.5.0->en-core-web-sm==3.5.0) (1.26.18)\n",
      "Requirement already satisfied: certifi>=2017.4.17 in /var/home/zaristei/.conda/envs/knowledge_graph_llms/lib/python3.11/site-packages (from requests<3.0.0,>=2.13.0->spacy<3.6.0,>=3.5.0->en-core-web-sm==3.5.0) (2023.7.22)\n",
      "Requirement already satisfied: blis<0.8.0,>=0.7.8 in /var/home/zaristei/.conda/envs/knowledge_graph_llms/lib/python3.11/site-packages (from thinc<8.2.0,>=8.1.8->spacy<3.6.0,>=3.5.0->en-core-web-sm==3.5.0) (0.7.9)\n",
      "Requirement already satisfied: confection<1.0.0,>=0.0.1 in /var/home/zaristei/.conda/envs/knowledge_graph_llms/lib/python3.11/site-packages (from thinc<8.2.0,>=8.1.8->spacy<3.6.0,>=3.5.0->en-core-web-sm==3.5.0) (0.0.4)\n",
      "Requirement already satisfied: click<9.0.0,>=7.1.1 in /var/home/zaristei/.conda/envs/knowledge_graph_llms/lib/python3.11/site-packages (from typer<0.8.0,>=0.3.0->spacy<3.6.0,>=3.5.0->en-core-web-sm==3.5.0) (8.1.7)\n",
      "Requirement already satisfied: MarkupSafe>=2.0 in /var/home/zaristei/.conda/envs/knowledge_graph_llms/lib/python3.11/site-packages (from jinja2->spacy<3.6.0,>=3.5.0->en-core-web-sm==3.5.0) (2.1.1)\n",
      "\u001b[33mWARNING: Running pip as the 'root' user can result in broken permissions and conflicting behaviour with the system package manager. It is recommended to use a virtual environment instead: https://pip.pypa.io/warnings/venv\u001b[0m\u001b[33m\n",
      "\u001b[0m\u001b[38;5;2m✔ Download and installation successful\u001b[0m\n",
      "You can now load the package via spacy.load('en_core_web_sm')\n"
     ]
    }
   ],
   "source": [
    "!python -m spacy download en_core_web_sm"
   ]
  },
  {
   "cell_type": "code",
   "execution_count": 6,
   "metadata": {},
   "outputs": [
    {
     "name": "stdout",
     "output_type": "stream",
     "text": [
      "Who invented machine learning, was it Steve Jobs\n",
      "Steve Jobs PERSON\n"
     ]
    }
   ],
   "source": [
    "nlp = spacy.load('en_core_web_sm') \n",
    "sentence = \"Who invented machine learning, was it Steve Jobs\"\n",
    "doc = nlp(sentence) \n",
    "print(doc)\n",
    "for ent in doc.ents: \n",
    "    print(ent.text, ent.label_) "
   ]
  },
  {
   "cell_type": "code",
   "execution_count": 7,
   "metadata": {},
   "outputs": [
    {
     "name": "stdout",
     "output_type": "stream",
     "text": [
      "Cleaned Text: invented machine learning steve jobs\n",
      "Named Entities: (Steve Jobs,)\n"
     ]
    }
   ],
   "source": [
    "def clean_text(text):\n",
    "    # Extract named entities\n",
    "    nlp = spacy.load('en_core_web_sm') \n",
    "    named_entities = nlp(text).ents\n",
    "\n",
    "    # Tokenize the text\n",
    "    words = word_tokenize(text)\n",
    "\n",
    "    # Remove punctuation\n",
    "    tokenizer = RegexpTokenizer(r'\\w+')\n",
    "    words = tokenizer.tokenize(text)\n",
    "\n",
    "    # Remove stop words\n",
    "    stop_words = set(stopwords.words('english'))\n",
    "    words = [word for word in words if word.lower() not in stop_words]\n",
    "\n",
    "    # Part-of-speech tagging\n",
    "    tagged_words = pos_tag(words)\n",
    "\n",
    "    cleaned_text = ' '.join(words).lower()\n",
    "    \n",
    "    return cleaned_text, named_entities\n",
    "\n",
    "# Example usage:\n",
    "text = \"Who invented machine learning, was it Steve Jobs?\"\n",
    "cleaned_text, named_entities = clean_text(text)\n",
    "print(\"Cleaned Text:\", cleaned_text)\n",
    "print(\"Named Entities:\", named_entities)"
   ]
  },
  {
   "cell_type": "code",
   "execution_count": 8,
   "metadata": {},
   "outputs": [],
   "source": [
    "def query_to_kg_embeddings(query):\n",
    "    wiki_embeddings = []\n",
    "    cleaned_text, named_entities = clean_text(query)\n",
    "    # print(cleaned_text)\n",
    "    for ne in named_entities: \n",
    "        try:\n",
    "            #print(type(ne.orth_), ne.orth_.lower())\n",
    "            ne = ne.orth_.lower()\n",
    "            # print(ne, type(ne))\n",
    "            # print(ne == \"steve jobs\")\n",
    "            wiki_embeddings.append([ne, entity_embeddings[entity2id[alias2entity[\"steve jobs\"]]]])\n",
    "            cleaned_text = cleaned_text.replace(ne, \"\")\n",
    "        except Exception as e:\n",
    "            print(\"KeyError: \", e)\n",
    "\n",
    "\n",
    "    return wiki_embeddings"
   ]
  },
  {
   "cell_type": "code",
   "execution_count": 9,
   "metadata": {},
   "outputs": [
    {
     "name": "stdout",
     "output_type": "stream",
     "text": [
      "[['steve jobs', array([-0.14506742, -0.12522382, -0.20576426, -0.24067238,  0.5879003 ,\n",
      "       -0.37743843, -0.21119453,  0.31490594,  0.3750396 ,  0.15038064,\n",
      "       -0.22792946, -0.23479481, -0.18943842, -0.31884384, -0.1297822 ,\n",
      "       -0.16294236,  0.20854223,  0.24055439,  0.21060887, -0.31041607,\n",
      "        0.02344835,  0.2064475 ,  0.23985358, -0.41276288, -0.11470509,\n",
      "        0.15619455,  0.3971171 ,  0.27328852, -0.20748287, -0.30876884,\n",
      "       -0.22771911, -0.30629387, -0.0895431 , -0.17742126, -0.23951218,\n",
      "        0.26153737,  0.21711522,  0.36986688,  0.50231826,  0.2374765 ,\n",
      "       -0.26459837, -0.22913334,  0.34746253,  0.24404152, -0.18217663,\n",
      "        0.08532561, -0.29877698,  0.25021964,  0.11043487,  0.27521297,\n",
      "        0.21867076,  0.23033242, -0.17963171,  0.2614267 , -0.3470688 ,\n",
      "        0.41214   , -0.3862682 ,  0.19821905,  0.07231293, -0.42387047,\n",
      "        0.4534364 , -0.2984923 , -0.13255991, -0.09870375,  0.3029415 ,\n",
      "        0.1755728 , -0.19057822,  0.34490088,  0.4965025 , -0.34853256,\n",
      "        0.2103244 , -0.17634982,  0.33285713,  0.06456072,  0.3649903 ,\n",
      "        0.09194289, -0.247378  ,  0.26242307, -0.12918861, -0.29517058,\n",
      "       -0.17388667,  0.2873254 ,  0.15384376,  0.19748788,  0.24660812,\n",
      "       -0.28517428, -0.34896082, -0.22482632, -0.25199965, -0.2719499 ,\n",
      "       -0.27490684, -0.03476096, -0.30479294,  0.33971727,  0.21606562,\n",
      "        0.21040331,  0.22844121, -0.27092007,  0.24125652, -0.3201027 ,\n",
      "       -0.2724303 ,  0.129536  , -0.11027795, -0.15309109, -0.2636892 ,\n",
      "        0.33530372,  0.26944247, -0.39436612,  0.29794857,  0.24719167,\n",
      "        0.21053848, -0.19964972, -0.26105213,  0.27041772,  0.2586945 ,\n",
      "       -0.17425044, -0.27600846,  0.3193959 , -0.23735195, -0.22332062,\n",
      "        0.38185897, -0.38693336, -0.28988186, -0.2834885 ,  0.19357872,\n",
      "        0.05198866, -0.26617056,  0.09953953,  0.07991123,  0.17369421,\n",
      "        0.36909854, -0.38178182,  0.14715464,  0.16232911, -0.26115558,\n",
      "        0.31482244, -0.31092715,  0.34381798, -0.09695451, -0.16897024,\n",
      "        0.10882534,  0.23075224, -0.3692775 , -0.25563815,  0.25800258,\n",
      "        0.17762202, -0.24306796, -0.3011921 , -0.2124992 , -0.10678189,\n",
      "        0.34094593, -0.37334433, -0.27101117, -0.12899025, -0.25552815,\n",
      "        0.3145101 ,  0.3803639 , -0.01283959,  0.2594815 , -0.3052168 ,\n",
      "       -0.32027805,  0.3795804 ,  0.2878937 ,  0.20219532,  0.32984096,\n",
      "       -0.3268464 ,  0.1971981 , -0.764916  , -0.4325511 , -0.2396579 ,\n",
      "       -0.33528614,  0.18730305,  0.29911697, -0.19850144,  0.14577736,\n",
      "        0.25128955,  0.18035404,  0.19584861, -0.30390078,  0.22567168,\n",
      "       -0.04851497,  0.32232395, -0.23914525, -0.38690457,  0.22063094,\n",
      "        0.23574857,  0.22907521,  0.00575346, -0.4083574 ,  0.30953854,\n",
      "        0.06047186, -0.37229845, -0.29697588,  0.15119073,  0.34708896,\n",
      "        0.2966658 ,  0.18196455,  0.32566363,  0.39736924, -0.08472051,\n",
      "        0.4201948 , -0.41575137,  0.20696497, -0.31656507, -0.07445703,\n",
      "        0.27206   , -0.07582998,  0.24079043, -0.12612136,  0.34625986,\n",
      "       -0.2408881 ,  0.17520903, -0.27288476,  0.45294756,  0.1241416 ,\n",
      "        0.15864536,  0.23071954, -0.18653986, -0.28292274,  0.12866876,\n",
      "        0.12541872,  0.27301344, -0.34543473,  0.24826002,  0.22880833,\n",
      "       -0.3836946 ,  0.1392973 ,  0.06979945,  0.01391008,  0.04422108,\n",
      "        0.31018665,  0.2446306 , -0.2799757 , -0.30268586,  0.23148757,\n",
      "        0.38738903, -0.42598432, -0.36230692,  0.28510776, -0.17946853,\n",
      "        0.08021557, -0.1503966 , -0.11389018,  0.15955403,  0.22006099,\n",
      "       -0.32894164,  0.07541022, -0.36434355, -0.40499088, -0.5407008 ,\n",
      "       -0.334528  ,  0.12424208,  0.1724417 ,  0.13587585,  0.10228803,\n",
      "        0.2187064 ,  0.32545963, -0.37263152, -0.0135829 ,  0.17087676,\n",
      "       -0.41045636, -0.33387753, -0.32543972,  0.06809237, -0.35404703,\n",
      "       -0.34158817,  0.23821752, -0.16601041,  0.27089676,  0.24751031,\n",
      "        0.19089304,  0.14239715,  0.2507067 ,  0.2526874 , -0.21500714,\n",
      "       -0.25352645, -0.24353218,  0.23752594, -0.24479964, -0.08938855,\n",
      "       -0.18545249, -0.15422994,  0.30514467, -0.49422148, -0.12914136,\n",
      "       -0.18538846,  0.1916766 ,  0.2389661 , -0.3018297 , -0.39859635,\n",
      "        0.2603335 ,  0.27904248, -0.2579952 ,  0.28172952,  0.13774692,\n",
      "       -0.31739715, -0.2816105 ,  0.28009844,  0.26032415,  0.39343727,\n",
      "       -0.1927463 ,  0.12708008, -0.21125413,  0.28956583, -0.24034666,\n",
      "       -0.307148  , -0.262298  , -0.15282567, -0.09420244,  0.30734295,\n",
      "       -0.09999987, -0.1965642 ,  0.19136268, -0.21413472, -0.21039599,\n",
      "        0.15148094,  0.3764153 , -0.2669609 , -0.21472284,  0.22289057,\n",
      "        0.12892316,  0.12260946,  0.1896786 , -0.26977533,  0.26959962,\n",
      "       -0.14852074, -0.26189107,  0.24157588, -0.24103619, -0.15669122,\n",
      "        0.3687733 ,  0.10732551,  0.43168336,  0.26664332,  0.3227514 ,\n",
      "        0.05783318, -0.0891018 , -0.2586375 , -0.5222527 ,  0.33556297,\n",
      "        0.18611021, -0.23537478, -0.2723844 , -0.30478185, -0.4236112 ,\n",
      "       -0.29821002,  0.25669768, -0.07452058, -0.2546773 , -0.19840287,\n",
      "        0.23872112,  0.37320462,  0.20859338,  0.24399957, -0.1652583 ,\n",
      "        0.3775583 ,  0.2564948 ,  0.16238126,  0.23313056, -0.01877385,\n",
      "       -0.319661  , -0.25217405,  0.07912546, -0.1319775 ,  0.02579788,\n",
      "        0.26677704, -0.285088  ,  0.2646909 , -0.26919544,  0.31581926,\n",
      "        0.30795646,  0.21610606, -0.3426288 ,  0.3061445 ,  0.22735713,\n",
      "       -0.3126678 ,  0.23005821, -0.1543373 , -0.33698595,  0.44480398,\n",
      "       -0.20852622,  0.17343293, -0.18069917, -0.28746182, -0.30276006,\n",
      "       -0.2422918 , -0.18083768, -0.27742818, -0.13996601,  0.2667479 ,\n",
      "       -0.23979615, -0.25648975, -0.20441383, -0.15871555,  0.17137468,\n",
      "       -0.40456086, -0.26280078,  0.21788967, -0.31719878, -0.21716121,\n",
      "       -0.28245273, -0.4178162 , -0.18353023,  0.15238999,  0.54732215,\n",
      "        0.16245185,  0.26971033, -0.16929874,  0.21739304,  0.2719011 ,\n",
      "       -0.21627575,  0.42431644, -0.09719229, -0.1919302 ,  0.33578286,\n",
      "       -0.25832567,  0.22241059, -0.2671045 , -0.2755403 , -0.3777978 ,\n",
      "       -0.1613357 ,  0.36252114, -0.317547  ,  0.02570706, -0.19955097,\n",
      "        0.2606773 , -0.32343644,  0.31522942,  0.4629727 , -0.43595663,\n",
      "       -0.3442651 ,  0.18196848, -0.32445848, -0.4011063 ,  0.41461965,\n",
      "       -0.23211189, -0.14109397,  0.22089247,  0.26039174,  0.01266107,\n",
      "        0.3636632 ,  0.38109675,  0.28959948,  0.29770634, -0.27688733,\n",
      "        0.09234042, -0.24576977, -0.2498258 , -0.127733  ,  0.13541618,\n",
      "       -0.2837007 , -0.15552165,  0.38070765, -0.26711762, -0.18115827,\n",
      "       -0.2563582 ,  0.14699587,  0.1130324 ,  0.4674861 ,  0.7260556 ,\n",
      "        0.19886233, -0.25110006, -0.34128025, -0.08043565,  0.37552455,\n",
      "       -0.41809997, -0.38447997,  0.17891212, -0.34914503, -0.27924037,\n",
      "        0.4422068 ,  0.37996095,  0.24540615, -0.277813  , -0.1839356 ,\n",
      "        0.14005207, -0.32919353,  0.42589086,  0.2528442 ,  0.34456846,\n",
      "       -1.360388  , -1.3614345 , -0.20008604, -0.34389812, -0.21338613,\n",
      "       -0.16805749,  0.42157498,  0.26127526, -0.1811258 , -0.2737337 ,\n",
      "        0.16919366,  0.25007138,  0.34784895, -0.26035273, -0.29861903,\n",
      "        0.04315541,  0.27143064,  0.23631729,  0.35243535,  0.22740643,\n",
      "        0.19060904, -0.21967848,  0.3496601 ,  0.1369616 , -0.4897582 ,\n",
      "       -0.42183152,  0.36977106, -0.23670234, -0.17383528, -0.30562872,\n",
      "        0.11804554,  0.31143838], dtype=float32)]]\n"
     ]
    }
   ],
   "source": [
    "print(query_to_kg_embeddings(\"Who invented calculus, was it Steve Jobs?\"))"
   ]
  },
  {
   "cell_type": "code",
   "execution_count": 10,
   "metadata": {},
   "outputs": [],
   "source": [
    "import os\n",
    "halueval_path = os.path.join(os.getcwd(), \"submodules\", \"HaluEval\", \"data\", \"qa_data.json\")"
   ]
  },
  {
   "cell_type": "code",
   "execution_count": 11,
   "metadata": {},
   "outputs": [
    {
     "data": {
      "text/plain": [
       "'/var/home/zaristei/repos/KG-LLM-Hallucination/submodules/HaluEval/data/qa_data.json'"
      ]
     },
     "execution_count": 11,
     "metadata": {},
     "output_type": "execute_result"
    }
   ],
   "source": [
    "halueval_path"
   ]
  },
  {
   "cell_type": "code",
   "execution_count": 12,
   "metadata": {},
   "outputs": [],
   "source": [
    "import json\n",
    "with(open(halueval_path, \"r\")) as f:\n",
    "    data_lst = f.readlines()\n",
    "\n",
    "data_lst = [json.loads(data) for data in data_lst]"
   ]
  },
  {
   "cell_type": "code",
   "execution_count": 13,
   "metadata": {},
   "outputs": [
    {
     "data": {
      "text/plain": [
       "10000"
      ]
     },
     "execution_count": 13,
     "metadata": {},
     "output_type": "execute_result"
    }
   ],
   "source": [
    "len(data_lst)"
   ]
  },
  {
   "cell_type": "code",
   "execution_count": 14,
   "metadata": {},
   "outputs": [
    {
     "data": {
      "text/plain": [
       "{'knowledge': \"Arthur's Magazine (1844–1846) was an American literary periodical published in Philadelphia in the 19th century.First for Women is a woman's magazine published by Bauer Media Group in the USA.\",\n",
       " 'question': \"Which magazine was started first Arthur's Magazine or First for Women?\",\n",
       " 'right_answer': \"Arthur's Magazine\",\n",
       " 'hallucinated_answer': 'First for Women was started first.'}"
      ]
     },
     "execution_count": 14,
     "metadata": {},
     "output_type": "execute_result"
    }
   ],
   "source": [
    "data_lst[0]"
   ]
  },
  {
   "cell_type": "code",
   "execution_count": 15,
   "metadata": {},
   "outputs": [],
   "source": [
    "# RELEVANT_KEYS = list(data_lst[0].keys())\n",
    "RELEVANT_KEYS = ['knowledge', 'question']"
   ]
  },
  {
   "cell_type": "code",
   "execution_count": 16,
   "metadata": {},
   "outputs": [],
   "source": [
    "import tqdm"
   ]
  },
  {
   "cell_type": "code",
   "execution_count": 29,
   "metadata": {},
   "outputs": [],
   "source": [
    "def process_data(data):\n",
    "    result = dict()\n",
    "    for k in RELEVANT_KEYS:\n",
    "        result[k] = {i[0]: i[1] for i in query_to_kg_embeddings(data[k])}\n",
    "        \n",
    "    return result"
   ]
  },
  {
   "cell_type": "code",
   "execution_count": 30,
   "metadata": {},
   "outputs": [],
   "source": [
    "processed_data = [process_data(i) for i in data_lst[:10]]"
   ]
  },
  {
   "cell_type": "code",
   "execution_count": 33,
   "metadata": {},
   "outputs": [
    {
     "data": {
      "text/plain": [
       "[\"arthur's magazine\",\n",
       " 'american',\n",
       " 'philadelphia',\n",
       " 'the 19th century',\n",
       " 'first',\n",
       " 'bauer media group',\n",
       " 'usa']"
      ]
     },
     "execution_count": 33,
     "metadata": {},
     "output_type": "execute_result"
    }
   ],
   "source": [
    "list(processed_data[0]['knowledge'].keys())"
   ]
  },
  {
   "cell_type": "code",
   "execution_count": 42,
   "metadata": {},
   "outputs": [],
   "source": [
    "from tqdm.contrib.concurrent import process_map\n",
    "import multiprocessing as mp\n",
    "import time"
   ]
  },
  {
   "cell_type": "code",
   "execution_count": 43,
   "metadata": {},
   "outputs": [
    {
     "name": "stderr",
     "output_type": "stream",
     "text": [
      "/tmp/ipykernel_1185607/2783135458.py:2: TqdmWarning: Iterable length 10000 > 1000 but `chunksize` is not set. This may seriously degrade multiprocess performance. Set `chunksize=1` or more.\n",
      "  result = process_map(process_data, data_lst, max_workers=mp.cpu_count())\n"
     ]
    },
    {
     "data": {
      "application/vnd.jupyter.widget-view+json": {
       "model_id": "24c75d72caae4399b229958c8615ea05",
       "version_major": 2,
       "version_minor": 0
      },
      "text/plain": [
       "  0%|          | 0/10000 [00:00<?, ?it/s]"
      ]
     },
     "metadata": {},
     "output_type": "display_data"
    },
    {
     "name": "stdout",
     "output_type": "stream",
     "text": [
      "413.7066173553467\n"
     ]
    }
   ],
   "source": [
    "start = time.time()\n",
    "result = process_map(process_data, data_lst, max_workers=mp.cpu_count())\n",
    "end = time.time()\n",
    "print(end-start)"
   ]
  },
  {
   "cell_type": "code",
   "execution_count": 45,
   "metadata": {},
   "outputs": [
    {
     "name": "stdout",
     "output_type": "stream",
     "text": [
      "10.1511\n"
     ]
    }
   ],
   "source": [
    "s = 0\n",
    "for i in result:\n",
    "    s += len(i['knowledge'].keys())\n",
    "print(s / len(result))"
   ]
  },
  {
   "cell_type": "code",
   "execution_count": 60,
   "metadata": {},
   "outputs": [],
   "source": [
    "pickle.dump(result, open(\"processed_data.pkl\", \"wb\"))"
   ]
  },
  {
   "cell_type": "code",
   "execution_count": 61,
   "metadata": {},
   "outputs": [],
   "source": [
    "# Use these only if the pickle file doesn't work for whatever reason"
   ]
  },
  {
   "cell_type": "code",
   "execution_count": 50,
   "metadata": {},
   "outputs": [],
   "source": [
    "reformatted_result = {i: list() for i in RELEVANT_KEYS}\n",
    "for item in result:\n",
    "    for k, vertices in item.items():\n",
    "        reformatted_result[k].append({natural_language_entity: embedding.tolist() for natural_language_entity, embedding in vertices.items()})"
   ]
  },
  {
   "cell_type": "code",
   "execution_count": 59,
   "metadata": {},
   "outputs": [],
   "source": [
    "with open(\"processed_data.json\", \"w\") as f:\n",
    "    json.dump(reformatted_result, f)"
   ]
  },
  {
   "cell_type": "code",
   "execution_count": null,
   "metadata": {},
   "outputs": [],
   "source": []
  }
 ],
 "metadata": {
  "kernelspec": {
   "display_name": "kghalu",
   "language": "python",
   "name": "python3"
  },
  "language_info": {
   "codemirror_mode": {
    "name": "ipython",
    "version": 3
   },
   "file_extension": ".py",
   "mimetype": "text/x-python",
   "name": "python",
   "nbconvert_exporter": "python",
   "pygments_lexer": "ipython3",
   "version": "3.11.5"
  },
  "orig_nbformat": 4
 },
 "nbformat": 4,
 "nbformat_minor": 2
}
