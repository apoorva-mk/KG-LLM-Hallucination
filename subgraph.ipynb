{
 "cells": [
  {
   "cell_type": "code",
   "execution_count": 1,
   "metadata": {},
   "outputs": [
    {
     "ename": "ModuleNotFoundError",
     "evalue": "No module named 'nltk'",
     "output_type": "error",
     "traceback": [
      "\u001b[0;31m---------------------------------------------------------------------------\u001b[0m",
      "\u001b[0;31mModuleNotFoundError\u001b[0m                       Traceback (most recent call last)",
      "\u001b[1;32m/Users/apoorvamk/Desktop/CSE 8803/KG-LLM-Hallucination/subgraph.ipynb Cell 1\u001b[0m line \u001b[0;36m4\n\u001b[1;32m      <a href='vscode-notebook-cell:/Users/apoorvamk/Desktop/CSE%208803/KG-LLM-Hallucination/subgraph.ipynb#W0sZmlsZQ%3D%3D?line=1'>2</a>\u001b[0m \u001b[39m# import graphvite as gv\u001b[39;00m\n\u001b[1;32m      <a href='vscode-notebook-cell:/Users/apoorvamk/Desktop/CSE%208803/KG-LLM-Hallucination/subgraph.ipynb#W0sZmlsZQ%3D%3D?line=2'>3</a>\u001b[0m \u001b[39mimport\u001b[39;00m \u001b[39mdataset\u001b[39;00m\n\u001b[0;32m----> <a href='vscode-notebook-cell:/Users/apoorvamk/Desktop/CSE%208803/KG-LLM-Hallucination/subgraph.ipynb#W0sZmlsZQ%3D%3D?line=3'>4</a>\u001b[0m \u001b[39mimport\u001b[39;00m \u001b[39mnltk\u001b[39;00m\n\u001b[1;32m      <a href='vscode-notebook-cell:/Users/apoorvamk/Desktop/CSE%208803/KG-LLM-Hallucination/subgraph.ipynb#W0sZmlsZQ%3D%3D?line=4'>5</a>\u001b[0m \u001b[39mimport\u001b[39;00m \u001b[39mre\u001b[39;00m\n\u001b[1;32m      <a href='vscode-notebook-cell:/Users/apoorvamk/Desktop/CSE%208803/KG-LLM-Hallucination/subgraph.ipynb#W0sZmlsZQ%3D%3D?line=5'>6</a>\u001b[0m \u001b[39mimport\u001b[39;00m \u001b[39mspacy\u001b[39;00m\n",
      "\u001b[0;31mModuleNotFoundError\u001b[0m: No module named 'nltk'"
     ]
    }
   ],
   "source": [
    "import pickle\n",
    "# import graphvite as gv\n",
    "import dataset\n",
    "import nltk\n",
    "import re\n",
    "import spacy\n",
    "import nltk\n",
    "from nltk import word_tokenize\n",
    "from nltk.corpus import stopwords\n",
    "from nltk.tokenize import RegexpTokenizer\n",
    "from nltk.tag import pos_tag\n",
    "from nltk.chunk import ne_chunk\n",
    "\n",
    "nltk.download('punkt')\n",
    "nltk.download('stopwords')\n",
    "nltk.download('maxent_ne_chunker')\n",
    "nltk.download('words')\n",
    "nltk.download('averaged_perceptron_tagger')\n",
    "\n",
    "\n",
    "\n",
    "%reload_ext autoreload\n",
    "%autoreload"
   ]
  },
  {
   "cell_type": "code",
   "execution_count": null,
   "metadata": {},
   "outputs": [],
   "source": [
    "file = open(\"simple_wikidata5m.pkl\", \"rb\")\n",
    "model = pickle.load(file)\n",
    "entity2id = model.graph.entity2id\n",
    "relation2id = model.graph.relation2id\n",
    "entity_embeddings = model.solver.entity_embeddings\n",
    "relation_embeddings = model.solver.relation_embeddings"
   ]
  },
  {
   "cell_type": "code",
   "execution_count": null,
   "metadata": {},
   "outputs": [],
   "source": [
    "alias2entity = dataset.wikidata5m.load_alias(\"./entity.txt.gz\")"
   ]
  },
  {
   "cell_type": "code",
   "execution_count": null,
   "metadata": {},
   "outputs": [
    {
     "name": "stdout",
     "output_type": "stream",
     "text": [
      "[ 2.60482699e-01 -2.64108598e-01  1.32692650e-01 -1.80898160e-01\n",
      "  2.04402462e-01  3.02922130e-01  2.29415789e-01 -2.65274495e-01\n",
      "  1.74571738e-01  5.07495478e-02 -1.53140053e-01  1.63881034e-01\n",
      "  3.80817354e-01 -2.47925028e-01  1.42434612e-01  4.61547896e-02\n",
      "  2.26035491e-01  3.26893598e-01 -3.08777392e-01  9.04703289e-02\n",
      " -3.79401118e-01  5.44060528e-01  2.40935609e-01  4.73862737e-01\n",
      "  1.71523407e-01  2.77059644e-01  1.82027116e-01  6.17173493e-01\n",
      " -4.27625000e-01  3.13107938e-01 -3.16630810e-01 -4.91333276e-01\n",
      "  2.56019652e-01 -2.33069897e-01 -2.12509558e-01  2.00872600e-01\n",
      " -4.32604164e-01  3.78530830e-01  2.59757489e-01  4.55503315e-01\n",
      "  1.19828008e-01  2.73469687e-01 -3.76534820e-01  3.35429490e-01\n",
      " -3.16824853e-01 -2.15407729e-01  9.52157602e-02 -1.56584769e-01\n",
      " -2.01313972e-01  6.93463981e-02  3.10220689e-01  4.62196469e-01\n",
      "  1.60467044e-01  1.08755626e-01  3.84727716e-01 -3.15181702e-01\n",
      "  2.19031915e-01  1.48679212e-01 -4.16427493e-01  6.39831740e-03\n",
      " -3.80867481e-01 -2.42932335e-01 -1.35609031e-01 -1.55796811e-01\n",
      " -2.29876727e-01  1.69426218e-01 -3.43978137e-01 -6.67026043e-02\n",
      "  4.17388767e-01 -7.55911171e-02  1.52986869e-01 -1.35404512e-01\n",
      "  4.60934132e-01 -5.43872654e-01 -1.59492463e-01  2.01919839e-01\n",
      "  1.49592906e-01 -2.47962490e-01 -3.44217688e-01  3.10345978e-01\n",
      " -1.66067287e-01 -1.71013102e-01  2.43562445e-01  1.73062667e-01\n",
      " -3.09262127e-01 -1.73971340e-01  4.13520709e-02 -1.79640189e-01\n",
      "  8.09987709e-02 -2.12882921e-01  4.82583284e-01  2.59122103e-01\n",
      "  3.45163226e-01  3.18662435e-01 -2.75105745e-01  2.17988953e-01\n",
      "  7.44940042e-02 -2.13865265e-02  1.84553623e-01 -2.20039964e-01\n",
      "  2.45917544e-01  3.42905432e-01  1.13396779e-01 -8.58664140e-02\n",
      " -1.70156732e-01  1.03188910e-01  2.98303604e-01 -4.39871341e-01\n",
      " -3.85402590e-01 -3.12266439e-01 -1.21854663e-01 -1.68592542e-01\n",
      " -1.21334285e-01 -3.54442656e-01  3.79440397e-01  5.18921196e-01\n",
      " -2.45011523e-01  1.07874393e-01  3.86218101e-01  2.45151132e-01\n",
      "  1.78482011e-01  3.67118269e-01  2.55801618e-01  2.79107571e-01\n",
      " -1.78593218e-01 -2.12126598e-01 -9.75664407e-02  3.08189511e-01\n",
      " -2.21600413e-01 -8.95811543e-02 -4.73136991e-01 -2.75159389e-01\n",
      "  8.04129168e-02 -2.22131774e-01 -2.92916119e-01 -2.63733864e-01\n",
      "  3.77431899e-01 -1.62908182e-01 -2.03403398e-01  2.95561105e-01\n",
      "  2.24271327e-01 -1.67347774e-01 -2.89398789e-01 -2.22802550e-01\n",
      " -2.09483445e-01 -2.15611130e-01 -2.46878758e-01  2.50822484e-01\n",
      " -8.81610364e-02  1.50233686e-01 -4.10551071e-01 -5.75390458e-01\n",
      "  2.98957258e-01  2.09052935e-01 -1.32372886e-01 -3.26653242e-01\n",
      " -3.47323507e-01 -1.64193228e-01  1.81290179e-01 -3.56316328e-01\n",
      "  3.32598984e-01  2.34680429e-01  3.83364111e-01  1.55200079e-01\n",
      " -3.00953895e-01 -2.00523213e-01  6.08785152e-01  5.05985975e-01\n",
      " -2.24500969e-01  3.38966638e-01  2.59640068e-01 -2.28678837e-01\n",
      " -2.31429055e-01 -1.97324708e-01 -2.57295847e-01  3.75157803e-01\n",
      " -1.98997259e-01  2.87442923e-01 -1.96932666e-02  3.33301157e-01\n",
      "  2.43172646e-01 -3.10346484e-01 -2.95345008e-01  2.38579571e-01\n",
      " -3.30699742e-01 -3.59334022e-01  1.94575295e-01 -1.12179242e-01\n",
      "  1.12055063e-01 -2.04182222e-01 -1.95811614e-01  2.35793501e-01\n",
      " -3.02819788e-01 -2.41040230e-01 -2.54088134e-01  1.36744007e-01\n",
      "  4.08699483e-01  2.63748080e-01 -2.64543414e-01 -1.98957846e-01\n",
      "  2.18883559e-01 -3.27945173e-01 -1.76417202e-01  1.95469335e-01\n",
      "  2.73314893e-01 -3.88028800e-01  3.17559361e-01  2.55291224e-01\n",
      "  3.59037936e-01  2.35921249e-01 -2.53211021e-01  3.14286411e-01\n",
      "  2.25215420e-01  2.82444894e-01 -3.09952438e-01 -2.38432854e-01\n",
      " -1.82435349e-01 -2.71623820e-01 -2.44202420e-01 -3.02276164e-01\n",
      " -3.53108764e-01 -2.64028400e-01  3.33978683e-01 -7.70274401e-02\n",
      " -2.59498149e-01  2.71763533e-01  3.42666447e-01  2.90842682e-01\n",
      "  2.61414051e-01 -2.57862180e-01 -3.50597233e-01  2.14146733e-01\n",
      "  3.93081158e-01  1.89039797e-01  5.31163514e-01 -3.64315808e-01\n",
      "  9.47639123e-02 -2.56295234e-01  1.74304113e-01  2.99778044e-01\n",
      "  1.93055287e-01  1.39050931e-01 -1.35246217e-01  3.50438625e-01\n",
      " -6.75937952e-03  1.95458993e-01  2.51629706e-02 -2.24305868e-01\n",
      " -2.90021390e-01  3.02349240e-01  3.94178271e-01  2.64027148e-01\n",
      "  7.58837759e-02 -2.13465199e-01  4.22114551e-01  1.18617743e-01\n",
      " -8.67487565e-02 -3.61199051e-01  7.13661686e-02 -1.67134762e-01\n",
      "  2.25436598e-01 -2.73819000e-01  4.68851021e-03 -2.02270165e-01\n",
      " -2.09266409e-01 -2.46134222e-01 -4.28922415e-01  1.64214164e-01\n",
      " -2.25795567e-01  7.59156719e-02 -1.25736535e-01 -2.73464620e-01\n",
      " -1.46135658e-01  2.32326820e-01 -2.60481924e-01  1.42284080e-01\n",
      "  2.77702063e-01 -1.87942043e-01 -3.33996892e-01 -1.69928923e-01\n",
      "  2.96134710e-01 -2.70104438e-01  2.92904556e-01 -3.73292476e-01\n",
      " -1.80395126e-01  2.43117854e-01  2.82897204e-01  2.57374734e-01\n",
      "  3.69623512e-01 -2.78058261e-01  2.31849298e-01  3.34222525e-01\n",
      " -3.48528355e-01 -1.82603806e-01  1.54591620e-01 -1.57968894e-01\n",
      " -1.87288150e-01  3.22934151e-01  2.56922543e-01 -2.63553113e-01\n",
      "  1.64753601e-01  1.67580694e-01 -1.10686064e-01 -1.84714291e-02\n",
      " -2.71715224e-01  1.76943451e-01  2.61532575e-01 -1.91038594e-01\n",
      "  3.20217520e-01  3.34094882e-01  2.36078382e-01  2.75134027e-01\n",
      "  1.53939247e-01 -4.79734056e-02  2.43490577e-01 -2.24616617e-01\n",
      " -3.35633367e-01 -2.36386836e-01 -3.49170983e-01  2.38319129e-01\n",
      " -2.90034972e-02  2.64838994e-01  3.46984953e-01 -3.62409025e-01\n",
      "  1.60121545e-01 -1.89730451e-01 -8.30058381e-02  1.42859161e-01\n",
      "  2.73385882e-01 -3.17880720e-01  2.56133303e-02  2.39383399e-01\n",
      " -3.62652630e-01  3.55626196e-01  2.45611474e-01  3.09037358e-01\n",
      " -2.42296100e-01 -2.32183233e-01 -2.84174681e-01 -1.67841747e-01\n",
      "  3.02923977e-01  3.97085190e-01 -2.05859736e-01 -7.49523193e-02\n",
      "  1.56974360e-01  2.89975673e-01  2.54892349e-01  3.80620182e-01\n",
      " -1.77727014e-01 -1.75651491e-01 -1.26781687e-01  2.55423158e-01\n",
      "  3.04151773e-01  1.37582660e-01  1.57014966e-01  2.38883138e-01\n",
      " -1.94069639e-01 -3.36510688e-01  2.46915981e-01 -2.50150174e-01\n",
      " -2.35973105e-01  1.11736797e-01  2.14951128e-01 -1.26267999e-01\n",
      " -5.02223492e-01  3.34577054e-01 -2.51573652e-01 -1.56317204e-01\n",
      "  3.62944067e-01 -3.01151127e-01  2.58112460e-01 -1.64302096e-01\n",
      " -3.82808179e-01  3.32536787e-01  3.34559649e-01 -2.46907264e-01\n",
      "  4.04507011e-01  1.65751547e-01 -7.59855881e-02  2.56733954e-01\n",
      " -2.57340372e-01  1.56135112e-01 -3.12948853e-01  1.71970829e-01\n",
      " -1.18942469e-01  2.81084895e-01 -2.49072134e-01 -5.24562187e-02\n",
      "  2.92453855e-01 -2.24995926e-01 -2.00332507e-01 -3.22738528e-01\n",
      "  2.39364907e-01  1.76254109e-01 -6.14278764e-02 -1.97591141e-01\n",
      " -3.43311936e-01  3.05463761e-01 -2.90370911e-01 -2.73683101e-01\n",
      " -2.08060697e-01  3.88316214e-01  1.71876550e-01  1.13296241e-01\n",
      " -3.09354007e-01 -2.99888968e-01  2.58902997e-01  3.82938862e-01\n",
      " -2.99208373e-01 -2.34198332e-01  4.01296377e-01 -3.44490886e-01\n",
      "  2.67002612e-01  4.48465139e-01  1.02305844e-01  4.06830048e-04\n",
      "  9.17068794e-02 -2.16242343e-01 -1.06332071e-01 -1.66908115e-01\n",
      "  2.86202341e-01 -3.23745072e-01  2.03212336e-01 -2.32007071e-01\n",
      " -2.90292680e-01  1.87071294e-01  3.17279726e-01 -2.24274322e-01\n",
      " -2.88808078e-01  1.54732153e-01  2.90960521e-01  3.54321897e-01\n",
      " -1.94152012e-01  2.56735742e-01 -1.46274313e-01 -1.95906460e-01\n",
      " -2.81565726e-01 -1.65080518e-01 -3.48094970e-01 -1.43481776e-01\n",
      " -2.65075676e-02 -2.00495929e-01 -2.28645712e-01  4.35442716e-01\n",
      " -1.61143243e-01 -3.06511313e-01  2.33264282e-01 -3.37330520e-01\n",
      " -1.29892394e-01  7.75414854e-02  2.21792608e-01  1.90973401e-01\n",
      "  3.24423164e-01 -3.35412025e-01 -3.28054547e-01 -1.99662402e-01\n",
      " -4.29396212e-01  4.05638933e-01 -2.59756953e-01  2.28176370e-01\n",
      "  2.22232029e-01 -2.31670126e-01  2.43041202e-01 -2.62585640e-01\n",
      " -2.45319694e-01  2.64230460e-01 -1.89588875e-01 -1.98026747e-01\n",
      "  2.28436694e-01 -3.39553028e-01 -1.55795634e-01 -3.34415823e-01\n",
      "  3.49631757e-01  2.45846361e-01  7.25524724e-02  2.19293982e-01\n",
      " -4.33087975e-01  3.28198671e-01  3.06479186e-01 -4.76236314e-01\n",
      " -1.15757883e+00 -1.15771091e+00 -2.24360958e-01 -2.82661647e-01\n",
      "  1.43907025e-01  9.17907655e-02 -1.48254126e-01  2.51437992e-01\n",
      "  2.40400583e-01 -1.20519027e-01 -4.93049175e-01 -2.92286992e-01\n",
      "  4.10193205e-01  1.87972099e-01 -2.67925978e-01  1.81700006e-01\n",
      " -2.91981280e-01  2.96986461e-01  1.66566446e-01 -5.42174019e-02\n",
      "  2.78533697e-01  3.04280728e-01 -3.57293606e-01 -2.24248573e-01\n",
      " -3.63032132e-01 -1.11055821e-01 -3.10327500e-01 -2.23893419e-01\n",
      " -4.30916160e-01 -2.83289313e-01  3.30804199e-01  3.44215214e-01]\n"
     ]
    }
   ],
   "source": [
    "print(entity_embeddings[entity2id[alias2entity[\"invented\"]]])"
   ]
  },
  {
   "cell_type": "code",
   "execution_count": null,
   "metadata": {},
   "outputs": [
    {
     "name": "stdout",
     "output_type": "stream",
     "text": [
      "Who invented machine learning, was it Steve Jobs\n",
      "Steve Jobs PERSON\n"
     ]
    }
   ],
   "source": [
    "nlp = spacy.load('en_core_web_sm') \n",
    "sentence = \"Who invented machine learning, was it Steve Jobs\"\n",
    "doc = nlp(sentence) \n",
    "print(doc)\n",
    "for ent in doc.ents: \n",
    "    print(ent.text, ent.label_) "
   ]
  },
  {
   "cell_type": "code",
   "execution_count": null,
   "metadata": {},
   "outputs": [
    {
     "name": "stdout",
     "output_type": "stream",
     "text": [
      "Cleaned Text: invented machine learning steve jobs\n",
      "Named Entities: (Steve Jobs,)\n"
     ]
    }
   ],
   "source": [
    "def clean_text(text):\n",
    "    # Extract named entities\n",
    "    nlp = spacy.load('en_core_web_sm') \n",
    "    named_entities = nlp(text).ents\n",
    "\n",
    "    # Tokenize the text\n",
    "    words = word_tokenize(text)\n",
    "\n",
    "    # Remove punctuation\n",
    "    tokenizer = RegexpTokenizer(r'\\w+')\n",
    "    words = tokenizer.tokenize(text)\n",
    "\n",
    "    # Remove stop words\n",
    "    stop_words = set(stopwords.words('english'))\n",
    "    words = [word for word in words if word.lower() not in stop_words]\n",
    "\n",
    "    # Part-of-speech tagging\n",
    "    tagged_words = pos_tag(words)\n",
    "\n",
    "    cleaned_text = ' '.join(words).lower()\n",
    "    \n",
    "    return cleaned_text, named_entities\n",
    "\n",
    "# Example usage:\n",
    "text = \"Who invented machine learning, was it Steve Jobs?\"\n",
    "cleaned_text, named_entities = clean_text(text)\n",
    "print(\"Cleaned Text:\", cleaned_text)\n",
    "print(\"Named Entities:\", named_entities)"
   ]
  },
  {
   "cell_type": "code",
   "execution_count": null,
   "metadata": {},
   "outputs": [],
   "source": [
    "def extract_continuous_word_sets(text, window_size):\n",
    "    words = text.split()\n",
    "    word_sets = []\n",
    "    \n",
    "    for i in range(len(words) - window_size + 1):\n",
    "        word_set = ' '.join(words[i:i + window_size])\n",
    "        word_sets.append(word_set)\n",
    "\n",
    "    return word_sets"
   ]
  },
  {
   "cell_type": "code",
   "execution_count": null,
   "metadata": {},
   "outputs": [],
   "source": [
    "def query_to_kg_embeddings(query):\n",
    "    wiki_embeddings = {}\n",
    "    cleaned_text, named_entities = clean_text(query)\n",
    "    for ne in named_entities: \n",
    "        try:\n",
    "            ne = ne.orth_.lower()\n",
    "            wiki_embeddings[ne] = entity_embeddings[entity2id[alias2entity[ne]]]\n",
    "            cleaned_text = cleaned_text.replace(ne, \"\")\n",
    "        except Exception as e:\n",
    "            print(\"KeyError: \", e)\n",
    "    num_of_words = len(word_tokenize(cleaned_text))\n",
    "    for i in range(num_of_words, 0, -1):\n",
    "        word_sets = extract_continuous_word_sets(cleaned_text, i)\n",
    "        for word in word_sets:\n",
    "            try:\n",
    "                wiki_embeddings[word] = entity_embeddings[entity2id[alias2entity[word]]]\n",
    "                cleaned_text = cleaned_text.replace(word, \"\")\n",
    "            except Exception as e:\n",
    "                print(\"KeyError: \", e)\n",
    "\n",
    "    return wiki_embeddings"
   ]
  },
  {
   "cell_type": "code",
   "execution_count": null,
   "metadata": {},
   "outputs": [
    {
     "name": "stdout",
     "output_type": "stream",
     "text": [
      "KeyError:  'invented machine learning'\n",
      "KeyError:  'invented machine'\n"
     ]
    }
   ],
   "source": [
    "wiki_embeddings = (query_to_kg_embeddings(\"Who invented machine learning, was it Isaac Newton?\"))"
   ]
  },
  {
   "cell_type": "code",
   "execution_count": null,
   "metadata": {},
   "outputs": [
    {
     "name": "stdout",
     "output_type": "stream",
     "text": [
      "isaac newton 512\n",
      "machine learning 512\n",
      "invented 512\n"
     ]
    }
   ],
   "source": [
    "for k in wiki_embeddings:\n",
    "    print(k, len(wiki_embeddings[k]))"
   ]
  }
 ],
 "metadata": {
  "kernelspec": {
   "display_name": "kghalu",
   "language": "python",
   "name": "python3"
  },
  "language_info": {
   "codemirror_mode": {
    "name": "ipython",
    "version": 3
   },
   "file_extension": ".py",
   "mimetype": "text/x-python",
   "name": "python",
   "nbconvert_exporter": "python",
   "pygments_lexer": "ipython3",
   "version": "3.10.13"
  },
  "orig_nbformat": 4
 },
 "nbformat": 4,
 "nbformat_minor": 2
}
